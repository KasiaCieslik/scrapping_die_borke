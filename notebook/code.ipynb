{
 "cells": [
  {
   "cell_type": "code",
   "execution_count": 12,
   "metadata": {},
   "outputs": [],
   "source": [
    "import requests\n",
    "from bs4 import BeautifulSoup\n",
    "from dateutil import parser\n",
    "import re\n",
    "import pandas as pd\n",
    "import os.path"
   ]
  },
  {
   "cell_type": "code",
   "execution_count": 123,
   "metadata": {},
   "outputs": [],
   "source": [
    "def extract_float_from_string(string):\n",
    "    l = [float(x) for x in re.findall(\"\\d+\\.\\d+\", string)]\n",
    "    if len(l) == 1:\n",
    "        return l[0]\n",
    "    else:\n",
    "        return l\n",
    "\n",
    "url = 'https://www.surf-und-segelschule-mueggelsee.de/?Wetterdaten'\n",
    "\n",
    "def download_weather_data(url):\n",
    "    response = requests.get(url) # \n",
    "    html = response.content\n",
    "    scraped = BeautifulSoup(html,'html.parser')\n",
    "    return scraped\n"
   ]
  },
  {
   "cell_type": "code",
   "execution_count": 125,
   "metadata": {
    "scrolled": false
   },
   "outputs": [],
   "source": [
    "def parse_data(scraped):\n",
    "    d = []\n",
    "    for data in scraped.find('div',class_=\"tbis-layout-cell layout-item-old-1\").find_all('tr'):\n",
    "        d.append(data.text)\n",
    "    mapping = {}\n",
    "    mapping['lastupdate'] = parser.parse(d[0].split(': ')[1])\n",
    "    mapping['temp'] = extract_float_from_string(d[2])\n",
    "    mapping['wind'] = extract_float_from_string(d[3])[0]\n",
    "    mapping['boen'] = extract_float_from_string(d[3])[1]\n",
    "    mapping['niederschlag'] = extract_float_from_string(d[4])\n",
    "    mapping['feuchte'] = int(re.findall(\"\\d+\\\\d+\", d[5])[0])\n",
    "    mapping['luftdruck'] = extract_float_from_string(d[6])\n",
    "    return mapping"
   ]
  },
  {
   "cell_type": "code",
   "execution_count": 127,
   "metadata": {},
   "outputs": [],
   "source": [
    "def save_data(mapping,file_name='weather.csv'):\n",
    "    mapping_csv = pd.DataFrame.from_records([mapping])\n",
    "    if os.path.isfile(file_name):\n",
    "        mapping_csv.to_csv(file_name,mode='a',header=None)\n",
    "    else:\n",
    "        mapping_csv.to_csv(file_name,mode='a')\n",
    "    "
   ]
  },
  {
   "cell_type": "code",
   "execution_count": 129,
   "metadata": {},
   "outputs": [],
   "source": [
    "def get_data(url):\n",
    "    scraped = download_weather_data(url)\n",
    "    mapping = parse_data(scraped)\n",
    "    save_data(mapping,file_name='weather88.csv')\n",
    "    \n",
    "    \n",
    "    \n",
    "get_data(url)   \n",
    "\n",
    "while True:\n",
    "    get_data(url)\n",
    "    time.sleep(60)"
   ]
  },
  {
   "cell_type": "code",
   "execution_count": 132,
   "metadata": {},
   "outputs": [
    {
     "ename": "KeyboardInterrupt",
     "evalue": "",
     "output_type": "error",
     "traceback": [
      "\u001b[1;31m---------------------------------------------------------------------------\u001b[0m",
      "\u001b[1;31mKeyboardInterrupt\u001b[0m                         Traceback (most recent call last)",
      "\u001b[1;32m<ipython-input-132-1df6f7df2627>\u001b[0m in \u001b[0;36m<module>\u001b[1;34m\u001b[0m\n\u001b[0;32m      2\u001b[0m \u001b[1;32mwhile\u001b[0m \u001b[1;32mTrue\u001b[0m\u001b[1;33m:\u001b[0m\u001b[1;33m\u001b[0m\u001b[1;33m\u001b[0m\u001b[0m\n\u001b[0;32m      3\u001b[0m     \u001b[0mget_data\u001b[0m\u001b[1;33m(\u001b[0m\u001b[0murl\u001b[0m\u001b[1;33m)\u001b[0m\u001b[1;33m\u001b[0m\u001b[1;33m\u001b[0m\u001b[0m\n\u001b[1;32m----> 4\u001b[1;33m     \u001b[0mtime\u001b[0m\u001b[1;33m.\u001b[0m\u001b[0msleep\u001b[0m\u001b[1;33m(\u001b[0m\u001b[1;36m5\u001b[0m\u001b[1;33m)\u001b[0m\u001b[1;33m\u001b[0m\u001b[1;33m\u001b[0m\u001b[0m\n\u001b[0m",
      "\u001b[1;31mKeyboardInterrupt\u001b[0m: "
     ]
    }
   ],
   "source": [
    "import time\n",
    "while True:\n",
    "    try:\n",
    "    get_data(url)\n",
    "    time.sleep(60*10)\n",
    "    except Exception as e:\n",
    "        print(\"File not accessible\",e)\n"
   ]
  },
  {
   "cell_type": "code",
   "execution_count": 130,
   "metadata": {},
   "outputs": [],
   "source": [
    "l = ','.join(list(map(str, mapping.values())))\n"
   ]
  },
  {
   "cell_type": "code",
   "execution_count": 83,
   "metadata": {},
   "outputs": [],
   "source": [
    "with open('mytxt', 'w') as f:\n",
    "    f.write(l)"
   ]
  },
  {
   "cell_type": "code",
   "execution_count": 85,
   "metadata": {},
   "outputs": [
    {
     "data": {
      "text/html": [
       "<div>\n",
       "<style scoped>\n",
       "    .dataframe tbody tr th:only-of-type {\n",
       "        vertical-align: middle;\n",
       "    }\n",
       "\n",
       "    .dataframe tbody tr th {\n",
       "        vertical-align: top;\n",
       "    }\n",
       "\n",
       "    .dataframe thead th {\n",
       "        text-align: right;\n",
       "    }\n",
       "</style>\n",
       "<table border=\"1\" class=\"dataframe\">\n",
       "  <thead>\n",
       "    <tr style=\"text-align: right;\">\n",
       "      <th></th>\n",
       "      <th>0</th>\n",
       "      <th>1</th>\n",
       "      <th>2</th>\n",
       "      <th>3</th>\n",
       "      <th>4</th>\n",
       "      <th>5</th>\n",
       "      <th>6</th>\n",
       "    </tr>\n",
       "  </thead>\n",
       "  <tbody>\n",
       "    <tr>\n",
       "      <td>0</td>\n",
       "      <td>2020-05-19 20:53:21</td>\n",
       "      <td>16.4</td>\n",
       "      <td>0.8</td>\n",
       "      <td>3.5</td>\n",
       "      <td>0.0</td>\n",
       "      <td>64</td>\n",
       "      <td>1019.8</td>\n",
       "    </tr>\n",
       "  </tbody>\n",
       "</table>\n",
       "</div>"
      ],
      "text/plain": [
       "                     0     1    2    3    4   5       6\n",
       "0  2020-05-19 20:53:21  16.4  0.8  3.5  0.0  64  1019.8"
      ]
     },
     "execution_count": 85,
     "metadata": {},
     "output_type": "execute_result"
    }
   ],
   "source": [
    "pd.read_csv('mytxt', header=None)"
   ]
  }
 ],
 "metadata": {
  "kernelspec": {
   "display_name": "Python 3",
   "language": "python",
   "name": "python3"
  },
  "language_info": {
   "codemirror_mode": {
    "name": "ipython",
    "version": 3
   },
   "file_extension": ".py",
   "mimetype": "text/x-python",
   "name": "python",
   "nbconvert_exporter": "python",
   "pygments_lexer": "ipython3",
   "version": "3.7.4"
  }
 },
 "nbformat": 4,
 "nbformat_minor": 4
}
